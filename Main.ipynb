{
 "cells": [
  {
   "cell_type": "code",
   "execution_count": 1,
   "id": "45cc55a2",
   "metadata": {},
   "outputs": [
    {
     "name": "stdout",
     "output_type": "stream",
     "text": [
      "DataFrame normalizado:\n",
      "                      titulo            autor_nombre autor_nacionalidad  \\\n",
      "id                                                                        \n",
      "1    El señor de los anillos          J.R.R. Tolkien         Inglaterra   \n",
      "2       Cien años de soledad  Gabriel García Márquez           Colombia   \n",
      "3                       1984           George Orwell        Reino Unido   \n",
      "6                  Moby Dick         Herman Melville     Estados Unidos   \n",
      "7        Orgullo y prejuicio             Jane Austen        Reino Unido   \n",
      "8             El gran Gatsby     F. Scott Fitzgerald     Estados Unidos   \n",
      "9   Don Quijote de la Mancha     Miguel de Cervantes             España   \n",
      "10         Matar un ruiseñor              Harper Lee     Estados Unidos   \n",
      "11          Crimen y castigo       Fyodor Dostoevsky              Rusia   \n",
      "\n",
      "            autor_genero         nombre_editorial ubicacion_editorial  precio  \\\n",
      "id                                                                              \n",
      "1               Fantasía                Minotauro              España   20.50   \n",
      "2        Realismo mágico                    Diana            Colombia   18.75   \n",
      "3        Ciencia ficción         Secker & Warburg         Reino Unido   15.99   \n",
      "6   Ficción de aventuras        Harper & Brothers      Estados Unidos   22.99   \n",
      "7       Novela romántica           Thomas Egerton         Reino Unido   17.50   \n",
      "8   Novela contemporánea  Charles Scribner's Sons      Estados Unidos   19.95   \n",
      "9       Novela picaresca      Francisco de Robles              España   16.00   \n",
      "10      Novela dramática   J. B. Lippincott & Co.      Estados Unidos   21.99   \n",
      "11    Novela psicológica    The Russian Messenger               Rusia   18.50   \n",
      "\n",
      "    Latitud_ed  Longitud_ed  cantidad_stock  \n",
      "id                                           \n",
      "1    41.389740     2.128907             100  \n",
      "2     4.656712   -74.054415              75  \n",
      "3    51.490037    -0.131669              50  \n",
      "6    42.350807   -71.073270              80  \n",
      "7    51.505135    -0.126134              90  \n",
      "8    40.757436   -73.977641              60  \n",
      "9    40.484462    -3.367712              70  \n",
      "10   39.946731   -75.150962              85  \n",
      "11   55.788301    37.618589              95  \n"
     ]
    }
   ],
   "source": [
    "# Ruta del archivos JSON\n",
    "ruta_json1 = r'C:\\Users\\Lonso\\Desktop\\Examen\\BD1.json'\n",
    "ruta_json2 = r'C:\\Users\\Lonso\\Desktop\\Examen\\BD2.json'\n",
    "\n",
    "import pandas as pd\n",
    "\n",
    "try:\n",
    "    # Lectura de JSON\n",
    "    df1 = pd.read_json(ruta_json1)\n",
    "    df2 = pd.read_json(ruta_json2)\n",
    "\n",
    "    # Unir DF\n",
    "    df=pd.concat([df1, df2], axis=0)\n",
    "\n",
    "    # Limpieza de datos\n",
    "    df = df.drop_duplicates()\n",
    "    df.dropna()\n",
    "\n",
    "    df=df.drop(['isbn', 'autor_fecha_nacimiento'],axis=1)\n",
    "    df = df.set_index('id')\n",
    "\n",
    "    # Imprimir el DataFrame\n",
    "    print(\"DataFrame normalizado:\")\n",
    "    print(df)\n",
    "\n",
    "    # Almacenado\n",
    "    df.to_excel('DataFrame.xlsx', index=False)\n",
    "\n",
    "except Exception as e:\n",
    "    print(\"Error en la ejecución:\", e)"
   ]
  },
  {
   "cell_type": "code",
   "execution_count": 2,
   "id": "f9e482c6",
   "metadata": {},
   "outputs": [
    {
     "data": {
      "text/plain": [
       "True"
      ]
     },
     "execution_count": 2,
     "metadata": {},
     "output_type": "execute_result"
    }
   ],
   "source": [
    "#Creación de tabla SQL\n",
    "import sqlite3\n",
    "\n",
    "#Inicializar conexion\n",
    "conexion = sqlite3.connect('Base de Datos')\n",
    "cursorBD= conexion.cursor()\n",
    "\n",
    "#Validar tabla ya creada o crearla\n",
    "def  tablacreada(tabla):\n",
    "    cursorBD.execute('''SELECT COUNT(name) FROM SQLITE_MASTER WHERE TYPE ='table' AND name = '{}' '''.format(tabla))\n",
    "    if cursorBD.fetchone()[0] == 1:\n",
    "        return True\n",
    "    else: \n",
    "        cursorBD.execute(''' CREATE TABLE LIBROS (id  INTEGER PRIMARY KEY AUTOINCREMENT,titulo TEXT,\n",
    "                         autor_nombre  TEXT,  autor_nacionalidad  TEXT, autor_genero  TEXT,  \n",
    "                         nombre_editorial TEXT, ubicacion_editorial  TEXT, precio  REAL, ed_longitud  REAL, \n",
    "                         ed_latitud  REAL, cantidad_stock  INTEGER) ''')\n",
    "        return False\n",
    "    \n",
    "#Ejecutar función\n",
    "tablacreada(\"LIBROS\")"
   ]
  },
  {
   "cell_type": "code",
   "execution_count": 3,
   "id": "6713a963",
   "metadata": {},
   "outputs": [
    {
     "data": {
      "text/plain": [
       "[(1, 'El señor de los anillos', 'J.R.R. Tolkien', 'Inglaterra', 'Fantasía', 'Minotauro', 'España', 20.5, 41.38974, 2.128907, 100),\n",
       " (2, 'Cien años de soledad', 'Gabriel García Márquez', 'Colombia', 'Realismo mágico', 'Diana', 'Colombia', 18.75, 4.656712, -74.054415, 75),\n",
       " (3, '1984', 'George Orwell', 'Reino Unido', 'Ciencia ficción', 'Secker & Warburg', 'Reino Unido', 15.99, 51.4900374, -0.13166899999999998, 50),\n",
       " (6, 'Moby Dick', 'Herman Melville', 'Estados Unidos', 'Ficción de aventuras', 'Harper & Brothers', 'Estados Unidos', 22.99, 42.350807, -71.07327, 80),\n",
       " (7, 'Orgullo y prejuicio', 'Jane Austen', 'Reino Unido', 'Novela romántica', 'Thomas Egerton', 'Reino Unido', 17.5, 51.505135, -0.126134, 90),\n",
       " (8, 'El gran Gatsby', 'F. Scott Fitzgerald', 'Estados Unidos', 'Novela contemporánea', \"Charles Scribner's Sons\", 'Estados Unidos', 19.95, 40.757436, -73.977641, 60),\n",
       " (9, 'Don Quijote de la Mancha', 'Miguel de Cervantes', 'España', 'Novela picaresca', 'Francisco de Robles', 'España', 16.0, 40.484462, -3.367712, 70),\n",
       " (10, 'Matar un ruiseñor', 'Harper Lee', 'Estados Unidos', 'Novela dramática', 'J. B. Lippincott & Co.', 'Estados Unidos', 21.99, 39.946731, -75.150962, 85),\n",
       " (11, 'Crimen y castigo', 'Fyodor Dostoevsky', 'Rusia', 'Novela psicológica', 'The Russian Messenger', 'Rusia', 18.5, 55.788301, 37.618589, 95)]"
      ]
     },
     "execution_count": 3,
     "metadata": {},
     "output_type": "execute_result"
    }
   ],
   "source": [
    "# Cargado del DataFrame en base de datos\n",
    "\n",
    "from sqlalchemy import create_engine\n",
    "\n",
    "engine=create_engine('sqlite://',echo=False)\n",
    "df.to_sql('LIBROS',con=engine)\n",
    "\n",
    "#Validar datos cargados en SQL\n",
    "engine.execute('SELECT * FROM LIBROS').fetchall()"
   ]
  }
 ],
 "metadata": {
  "kernelspec": {
   "display_name": "Python 3 (ipykernel)",
   "language": "python",
   "name": "python3"
  },
  "language_info": {
   "codemirror_mode": {
    "name": "ipython",
    "version": 3
   },
   "file_extension": ".py",
   "mimetype": "text/x-python",
   "name": "python",
   "nbconvert_exporter": "python",
   "pygments_lexer": "ipython3",
   "version": "3.11.4"
  }
 },
 "nbformat": 4,
 "nbformat_minor": 5
}
