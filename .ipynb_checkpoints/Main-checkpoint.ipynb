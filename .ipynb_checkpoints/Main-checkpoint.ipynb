{
 "cells": [
  {
   "cell_type": "code",
   "execution_count": null,
   "id": "45cc55a2",
   "metadata": {},
   "outputs": [],
   "source": [
    "# Ruta del archivo JSON\n",
    "ruta_json = r'C:\\Users\\Lonso\\Desktop\\Data Science\\Phyton\\DataFrame\\BS.json'\n",
    "\n",
    "try:\n",
    "    # Lectura del JSON con Pandas\n",
    "    df = pd.read_json(ruta_json)\n",
    "\n",
    "    # Normalización del DataFrame\n",
    "    df_normalizado = pd.json_normalize(df)\n",
    "\n",
    "    # Imprimir el DataFrame normalizado\n",
    "    print(\"DataFrame normalizado:\")\n",
    "    print(df_normalizado)\n",
    "\n",
    "except Exception as e:\n",
    "    print(\"Error al leer el archivo JSON:\", e)"
   ]
  }
 ],
 "metadata": {
  "kernelspec": {
   "display_name": "Python 3 (ipykernel)",
   "language": "python",
   "name": "python3"
  },
  "language_info": {
   "codemirror_mode": {
    "name": "ipython",
    "version": 3
   },
   "file_extension": ".py",
   "mimetype": "text/x-python",
   "name": "python",
   "nbconvert_exporter": "python",
   "pygments_lexer": "ipython3",
   "version": "3.11.4"
  }
 },
 "nbformat": 4,
 "nbformat_minor": 5
}
